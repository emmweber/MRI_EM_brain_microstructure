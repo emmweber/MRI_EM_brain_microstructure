{
 "cells": [
  {
   "cell_type": "markdown",
   "id": "0d66c2d8",
   "metadata": {},
   "source": [
    "# Transfer learning on mouse data"
   ]
  },
  {
   "cell_type": "code",
   "execution_count": 1,
   "id": "3fc4a639",
   "metadata": {},
   "outputs": [],
   "source": [
    "%load_ext autoreload\n",
    "%autoreload 2"
   ]
  },
  {
   "cell_type": "code",
   "execution_count": 2,
   "id": "cf650fb4",
   "metadata": {},
   "outputs": [],
   "source": [
    "# Defines imports\n",
    "import ipykernel\n",
    "import os\n",
    "import sys\n",
    "module_path = os.path.abspath(os.path.join('/home/gustavo/Gdrive/Stanford/Lab/ODF_prediction/cleaned_scripts/utilities')) # or the path to your source code\n",
    "sys.path.insert(0, module_path)\n",
    "\n",
    "import numpy as np\n",
    "import keras\n",
    "import tensorflow as tf\n",
    "import tensorflow_probability as tfp\n",
    "\n",
    "import matplotlib.pyplot as plt\n",
    "import os\n",
    "import random\n",
    "import pickle\n",
    "\n",
    "from tensorflow.keras.optimizers import Adam, SGD\n",
    "from sklearn.preprocessing import MinMaxScaler\n",
    "import scipy.stats as scis\n",
    "import scipy.io as scio\n",
    "\n",
    "\n",
    "from tensorflow.keras.layers import Input, Dense, Lambda\n",
    "from tensorflow.keras.models import Model\n",
    "\n",
    "import model_functions as mfunc\n",
    "from model_functions import final_layer_gamma\n",
    "from model_functions import negative_log_likelihood_loss_gamma\n",
    "\n",
    "import evaluation"
   ]
  },
  {
   "cell_type": "code",
   "execution_count": 3,
   "id": "d30b2535",
   "metadata": {},
   "outputs": [],
   "source": [
    "# Defines constants\n",
    "_DATASET_LIST = ['dog','dog_panda','dog_sealion_panda','dog_sealion','dog_goldfish_hotpot_panda_sealion_terrier', 'goldfish_hotpot_panda_sealion_terrier']\n",
    "_DATASET_FOLDER = '/home/gustavo/Gdrive/Stanford/Lab/ODF_prediction/datasets/experimental'\n",
    "_MODEL_FOLDER = '/home/gustavo/Gdrive/Stanford/Lab/ODF_prediction/cleaned_scripts/pretrained_models'\n",
    "_RESULTS_FOLDER = '/home/gustavo/Gdrive/Stanford/Lab/ODF_prediction/cleaned_scripts/experimental_results'\n",
    "_TL_MODEL_FOLDER = '/home/gustavo/Gdrive/Stanford/Lab/ODF_prediction/cleaned_scripts/tf_models'\n",
    "_NUM_RUNS = 20\n",
    "_LEARNING_RATE = 0.0015\n",
    "_NUM_EPOCHS = 2500\n",
    "_BATCH_SIZE = 16\n",
    "_LAYERS_FREEZE = [0,1,2,3,6,7,8,9]"
   ]
  },
  {
   "cell_type": "markdown",
   "id": "bb835899",
   "metadata": {},
   "source": [
    "### Load dataset"
   ]
  },
  {
   "cell_type": "code",
   "execution_count": 4,
   "id": "9d876687",
   "metadata": {},
   "outputs": [],
   "source": [
    "dataset_name = 'mouse_3regions'\n",
    "file_name = os.path.join(_DATASET_FOLDER,f'{dataset_name}.pkl')\n",
    "with open(file_name, 'rb') as file:\n",
    "    data_save = pickle.load(file)\n",
    "\n",
    "# Unpacks the data\n",
    "train_data = data_save['train']\n",
    "val_data = data_save['val']\n",
    "x_train = train_data['x_scaled']\n",
    "diameter_samples_train = train_data['diameter_samples']\n",
    "gratio_samples_train = train_data['gratio_samples']\n",
    "x_val = val_data['x_scaled']\n",
    "diameter_samples_val = val_data['diameter_samples']\n",
    "gratio_samples_val = val_data['gratio_samples']\n",
    "\n",
    "# Defines and compiles network\n",
    "num_features = x_train.shape[1]"
   ]
  },
  {
   "cell_type": "markdown",
   "id": "83d07073",
   "metadata": {},
   "source": [
    "## Fine tuning"
   ]
  },
  {
   "cell_type": "code",
   "execution_count": 5,
   "id": "544f87d4",
   "metadata": {},
   "outputs": [
    {
     "name": "stdout",
     "output_type": "stream",
     "text": [
      "Processing dog, run 0\n",
      "INFO:tensorflow:Assets written to: /home/gustavo/Gdrive/Stanford/Lab/ODF_prediction/cleaned_scripts/tf_models/dog/experimental_dog_0/assets\n",
      "Processing dog, run 1\n",
      "INFO:tensorflow:Assets written to: /home/gustavo/Gdrive/Stanford/Lab/ODF_prediction/cleaned_scripts/tf_models/dog/experimental_dog_1/assets\n",
      "Processing dog, run 2\n",
      "INFO:tensorflow:Assets written to: /home/gustavo/Gdrive/Stanford/Lab/ODF_prediction/cleaned_scripts/tf_models/dog/experimental_dog_2/assets\n",
      "Processing dog, run 3\n",
      "INFO:tensorflow:Assets written to: /home/gustavo/Gdrive/Stanford/Lab/ODF_prediction/cleaned_scripts/tf_models/dog/experimental_dog_3/assets\n",
      "Processing dog, run 4\n",
      "INFO:tensorflow:Assets written to: /home/gustavo/Gdrive/Stanford/Lab/ODF_prediction/cleaned_scripts/tf_models/dog/experimental_dog_4/assets\n",
      "Processing dog, run 5\n",
      "INFO:tensorflow:Assets written to: /home/gustavo/Gdrive/Stanford/Lab/ODF_prediction/cleaned_scripts/tf_models/dog/experimental_dog_5/assets\n",
      "Processing dog, run 6\n",
      "INFO:tensorflow:Assets written to: /home/gustavo/Gdrive/Stanford/Lab/ODF_prediction/cleaned_scripts/tf_models/dog/experimental_dog_6/assets\n",
      "Processing dog, run 7\n",
      "INFO:tensorflow:Assets written to: /home/gustavo/Gdrive/Stanford/Lab/ODF_prediction/cleaned_scripts/tf_models/dog/experimental_dog_7/assets\n",
      "Processing dog, run 8\n",
      "INFO:tensorflow:Assets written to: /home/gustavo/Gdrive/Stanford/Lab/ODF_prediction/cleaned_scripts/tf_models/dog/experimental_dog_8/assets\n",
      "Processing dog, run 9\n",
      "INFO:tensorflow:Assets written to: /home/gustavo/Gdrive/Stanford/Lab/ODF_prediction/cleaned_scripts/tf_models/dog/experimental_dog_9/assets\n",
      "Processing dog, run 10\n",
      "INFO:tensorflow:Assets written to: /home/gustavo/Gdrive/Stanford/Lab/ODF_prediction/cleaned_scripts/tf_models/dog/experimental_dog_10/assets\n",
      "Processing dog, run 11\n",
      "INFO:tensorflow:Assets written to: /home/gustavo/Gdrive/Stanford/Lab/ODF_prediction/cleaned_scripts/tf_models/dog/experimental_dog_11/assets\n",
      "Processing dog, run 12\n",
      "INFO:tensorflow:Assets written to: /home/gustavo/Gdrive/Stanford/Lab/ODF_prediction/cleaned_scripts/tf_models/dog/experimental_dog_12/assets\n",
      "Processing dog, run 13\n",
      "INFO:tensorflow:Assets written to: /home/gustavo/Gdrive/Stanford/Lab/ODF_prediction/cleaned_scripts/tf_models/dog/experimental_dog_13/assets\n",
      "Processing dog, run 14\n",
      "INFO:tensorflow:Assets written to: /home/gustavo/Gdrive/Stanford/Lab/ODF_prediction/cleaned_scripts/tf_models/dog/experimental_dog_14/assets\n",
      "Processing dog, run 15\n",
      "INFO:tensorflow:Assets written to: /home/gustavo/Gdrive/Stanford/Lab/ODF_prediction/cleaned_scripts/tf_models/dog/experimental_dog_15/assets\n",
      "Processing dog, run 16\n",
      "INFO:tensorflow:Assets written to: /home/gustavo/Gdrive/Stanford/Lab/ODF_prediction/cleaned_scripts/tf_models/dog/experimental_dog_16/assets\n",
      "Processing dog, run 17\n",
      "INFO:tensorflow:Assets written to: /home/gustavo/Gdrive/Stanford/Lab/ODF_prediction/cleaned_scripts/tf_models/dog/experimental_dog_17/assets\n",
      "Processing dog, run 18\n",
      "INFO:tensorflow:Assets written to: /home/gustavo/Gdrive/Stanford/Lab/ODF_prediction/cleaned_scripts/tf_models/dog/experimental_dog_18/assets\n",
      "Processing dog, run 19\n",
      "INFO:tensorflow:Assets written to: /home/gustavo/Gdrive/Stanford/Lab/ODF_prediction/cleaned_scripts/tf_models/dog/experimental_dog_19/assets\n"
     ]
    }
   ],
   "source": [
    "custom_objects = {\"final_layer_gamma\": final_layer_gamma, \n",
    "                  \"negative_log_likelihood_loss_gamma\": negative_log_likelihood_loss_gamma}\n",
    "\n",
    "for dataset_name in _DATASET_LIST:\n",
    "    # Load model\n",
    "    path_to_model = os.path.join(_MODEL_FOLDER,'pretrain_'+dataset_name)\n",
    "    for iteration in range(_NUM_RUNS):\n",
    "        print(f'Processing {dataset_name}, run {iteration}')\n",
    "        with keras.utils.custom_object_scope(custom_objects):\n",
    "            model = keras.models.load_model(path_to_model)\n",
    "        for i,layer in enumerate(model.layers):\n",
    "            if i in _LAYERS_FREEZE:\n",
    "                layer.trainable = False\n",
    "            else:\n",
    "                layer.trainable = True\n",
    "        opt = Adam(learning_rate = _LEARNING_RATE)\n",
    "        run_name = f'experimental_{dataset_name}_{iteration}'\n",
    "        # We already used validation for hyperparameter selection, so we combine train an validation for final retrain\n",
    "        history = model.fit(np.concatenate([x_train,x_val]), \n",
    "                            {'axon_output': np.concatenate([diameter_samples_train,\n",
    "                                                            diameter_samples_val]),\n",
    "                            'gratio_output': np.concatenate([gratio_samples_train,\n",
    "                                                             gratio_samples_val])},\n",
    "                            epochs=_NUM_EPOCHS, shuffle=True, batch_size=_BATCH_SIZE, verbose=0)\n",
    "        name_loss_figure = os.path.join(_RESULTS_FOLDER,f'loss_{run_name}.png')\n",
    "        # evaluation.plot_losses(history,name_loss_figure)\n",
    "        # Save model\n",
    "        save_name = os.path.join(_TL_MODEL_FOLDER,dataset_name,run_name)\n",
    "        model.save(save_name)"
   ]
  },
  {
   "cell_type": "code",
   "execution_count": null,
   "id": "77a53f00",
   "metadata": {},
   "outputs": [],
   "source": []
  }
 ],
 "metadata": {
  "kernelspec": {
   "display_name": "Python 3",
   "language": "python",
   "name": "python3"
  },
  "language_info": {
   "codemirror_mode": {
    "name": "ipython",
    "version": 3
   },
   "file_extension": ".py",
   "mimetype": "text/x-python",
   "name": "python",
   "nbconvert_exporter": "python",
   "pygments_lexer": "ipython3",
   "version": "3.8.8"
  }
 },
 "nbformat": 4,
 "nbformat_minor": 5
}
